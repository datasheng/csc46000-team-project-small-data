{
 "cells": [
  {
   "cell_type": "code",
   "execution_count": 1,
   "metadata": {},
   "outputs": [],
   "source": [
    "import pandas as pd\n",
    "import numpy as np\n",
    "import matplotlib.pyplot as plt\n",
    "import seaborn as sns\n"
   ]
  },
  {
   "cell_type": "code",
   "execution_count": 2,
   "metadata": {},
   "outputs": [],
   "source": [
    "#darren's data\n",
    "amd_hist = pd.read_csv('data/AMD_data_retrieval.csv')\n",
    "nvda_hist = pd.read_csv('data/NVDA_data_retrieval.csv')\n",
    "intc_hist = pd.read_csv('data/INTC_data_retrieval.csv')\n",
    "\n",
    "#tech indicators\n",
    "amd_tech = pd.read_csv('data/AMD_technical_indicators.csv')\n",
    "nvda_tech = pd.read_csv('data/NVDA_technical_indicators.csv')\n",
    "intc_tech = pd.read_csv('data/INTC_technical_indicators.csv')\n",
    "\n",
    "#sentiments\n",
    "amd_sent = pd.read_csv('data/AMD_sentiments.csv')\n",
    "nvda_sent = pd.read_csv('data/NVDA_sentiments.csv')\n",
    "intc_sent = pd.read_csv('data/INTC_sentiments.csv')"
   ]
  },
  {
   "cell_type": "code",
   "execution_count": 4,
   "metadata": {},
   "outputs": [
    {
     "data": {
      "text/plain": [
       "Index(['Date', 'Open', 'High', 'Low', 'Close', 'Volume', 'Dividends',\n",
       "       'Stock Splits', 'Year', 'P/E Ratio', 'Dividend Yield', 'Market Cap',\n",
       "       'Ticker'],\n",
       "      dtype='object')"
      ]
     },
     "execution_count": 4,
     "metadata": {},
     "output_type": "execute_result"
    }
   ],
   "source": [
    "amd_hist.columns"
   ]
  },
  {
   "cell_type": "code",
   "execution_count": 5,
   "metadata": {},
   "outputs": [
    {
     "data": {
      "text/plain": [
       "Index(['Unnamed: 0', 'title', 'description', 'source', 'url',\n",
       "       'sentiment_score'],\n",
       "      dtype='object')"
      ]
     },
     "execution_count": 5,
     "metadata": {},
     "output_type": "execute_result"
    }
   ],
   "source": [
    "amd_sent.columns"
   ]
  },
  {
   "cell_type": "code",
   "execution_count": 15,
   "metadata": {},
   "outputs": [
    {
     "data": {
      "text/plain": [
       "Index(['Date', 'RSI', 'ATR', 'ADX', 'MACD'], dtype='object')"
      ]
     },
     "execution_count": 15,
     "metadata": {},
     "output_type": "execute_result"
    }
   ],
   "source": [
    "amd_tech.columns"
   ]
  },
  {
   "cell_type": "code",
   "execution_count": 8,
   "metadata": {},
   "outputs": [],
   "source": [
    "amd_sent['Ticker'] = 'AMD' #allows us to merge later\n",
    "nvda_sent['Ticker'] = 'NVDA'\n",
    "intc_sent['Ticker'] = 'INTC'"
   ]
  },
  {
   "cell_type": "code",
   "execution_count": null,
   "metadata": {},
   "outputs": [],
   "source": [
    "amd_merged = amd_hist.merge(amd_tech, on='Date', how='left')\n",
    "nvda_merged = nvda_hist.merge(nvda_tech, on='Date', how='left')\n",
    "intc_merged = intc_hist.merge(intc_tech, on='Date', how='left')\n",
    "\n"
   ]
  },
  {
   "cell_type": "code",
   "execution_count": 10,
   "metadata": {},
   "outputs": [
    {
     "data": {
      "text/plain": [
       "Index(['Date', 'Open', 'High', 'Low', 'Close', 'Volume', 'Dividends',\n",
       "       'Stock Splits', 'Year', 'P/E Ratio', 'Dividend Yield', 'Market Cap',\n",
       "       'Ticker', 'RSI', 'ATR', 'ADX', 'MACD'],\n",
       "      dtype='object')"
      ]
     },
     "execution_count": 10,
     "metadata": {},
     "output_type": "execute_result"
    }
   ],
   "source": [
    "amd_merged.columns"
   ]
  },
  {
   "cell_type": "code",
   "execution_count": 11,
   "metadata": {},
   "outputs": [
    {
     "data": {
      "text/plain": [
       "Index(['Unnamed: 0', 'title', 'description', 'source', 'url',\n",
       "       'sentiment_score', 'Ticker'],\n",
       "      dtype='object')"
      ]
     },
     "execution_count": 11,
     "metadata": {},
     "output_type": "execute_result"
    }
   ],
   "source": [
    "amd_sent.columns"
   ]
  },
  {
   "cell_type": "code",
   "execution_count": null,
   "metadata": {},
   "outputs": [],
   "source": [
    "#merging historical data and technical indicators with sentiments\n",
    "amd_merged = amd_merged.merge(amd_sent, on='Ticker', how='left')\n",
    "nvda_merged = nvda_merged.merge(nvda_sent, on='Ticker', how='left')\n",
    "intc_merged = intc_merged.merge(intc_sent, on='Ticker', how='left')"
   ]
  },
  {
   "cell_type": "code",
   "execution_count": 34,
   "metadata": {},
   "outputs": [],
   "source": [
    "combined_data = pd.concat([amd_merged, nvda_merged, intc_merged])\n"
   ]
  },
  {
   "cell_type": "code",
   "execution_count": 35,
   "metadata": {},
   "outputs": [
    {
     "data": {
      "text/plain": [
       "Index(['Date', 'Open', 'High', 'Low', 'Close', 'Volume', 'Dividends',\n",
       "       'Stock Splits', 'Year', 'P/E Ratio', 'Dividend Yield', 'Market Cap',\n",
       "       'Ticker', 'RSI', 'ATR', 'ADX', 'MACD', 'Unnamed: 0', 'title',\n",
       "       'description', 'source', 'url', 'sentiment_score'],\n",
       "      dtype='object')"
      ]
     },
     "execution_count": 35,
     "metadata": {},
     "output_type": "execute_result"
    }
   ],
   "source": [
    "combined_data.columns"
   ]
  },
  {
   "cell_type": "code",
   "execution_count": 25,
   "metadata": {},
   "outputs": [
    {
     "data": {
      "text/plain": [
       "(2804065, 23)"
      ]
     },
     "execution_count": 25,
     "metadata": {},
     "output_type": "execute_result"
    }
   ],
   "source": [
    "combined_data.shape"
   ]
  },
  {
   "cell_type": "code",
   "execution_count": 19,
   "metadata": {},
   "outputs": [
    {
     "data": {
      "text/html": [
       "<div>\n",
       "<style scoped>\n",
       "    .dataframe tbody tr th:only-of-type {\n",
       "        vertical-align: middle;\n",
       "    }\n",
       "\n",
       "    .dataframe tbody tr th {\n",
       "        vertical-align: top;\n",
       "    }\n",
       "\n",
       "    .dataframe thead th {\n",
       "        text-align: right;\n",
       "    }\n",
       "</style>\n",
       "<table border=\"1\" class=\"dataframe\">\n",
       "  <thead>\n",
       "    <tr style=\"text-align: right;\">\n",
       "      <th></th>\n",
       "      <th>Date</th>\n",
       "      <th>Open</th>\n",
       "      <th>High</th>\n",
       "      <th>Low</th>\n",
       "      <th>Close</th>\n",
       "      <th>Volume</th>\n",
       "      <th>Dividends</th>\n",
       "      <th>Stock Splits</th>\n",
       "      <th>Year</th>\n",
       "      <th>P/E Ratio</th>\n",
       "      <th>...</th>\n",
       "      <th>RSI</th>\n",
       "      <th>ATR</th>\n",
       "      <th>ADX</th>\n",
       "      <th>MACD</th>\n",
       "      <th>Unnamed: 0</th>\n",
       "      <th>title</th>\n",
       "      <th>description</th>\n",
       "      <th>source</th>\n",
       "      <th>url</th>\n",
       "      <th>sentiment_score</th>\n",
       "    </tr>\n",
       "  </thead>\n",
       "  <tbody>\n",
       "    <tr>\n",
       "      <th>0</th>\n",
       "      <td>1980-03-17 00:00:00-05:00</td>\n",
       "      <td>0.0</td>\n",
       "      <td>3.302083</td>\n",
       "      <td>3.125</td>\n",
       "      <td>3.145833</td>\n",
       "      <td>219600</td>\n",
       "      <td>0.0</td>\n",
       "      <td>0.0</td>\n",
       "      <td>1980</td>\n",
       "      <td>2.783923</td>\n",
       "      <td>...</td>\n",
       "      <td>NaN</td>\n",
       "      <td>NaN</td>\n",
       "      <td>NaN</td>\n",
       "      <td>NaN</td>\n",
       "      <td>0</td>\n",
       "      <td>Advanced Micro Devices (AMD) Accelerates AI De...</td>\n",
       "      <td>We recently published a list of 15 AI News Upd...</td>\n",
       "      <td>Yahoo Entertainment</td>\n",
       "      <td>https://finance.yahoo.com/news/advanced-micro-...</td>\n",
       "      <td>0.20</td>\n",
       "    </tr>\n",
       "    <tr>\n",
       "      <th>1</th>\n",
       "      <td>1980-03-17 00:00:00-05:00</td>\n",
       "      <td>0.0</td>\n",
       "      <td>3.302083</td>\n",
       "      <td>3.125</td>\n",
       "      <td>3.145833</td>\n",
       "      <td>219600</td>\n",
       "      <td>0.0</td>\n",
       "      <td>0.0</td>\n",
       "      <td>1980</td>\n",
       "      <td>2.783923</td>\n",
       "      <td>...</td>\n",
       "      <td>NaN</td>\n",
       "      <td>NaN</td>\n",
       "      <td>NaN</td>\n",
       "      <td>NaN</td>\n",
       "      <td>1</td>\n",
       "      <td>Is AMD Stock Finally Better Than NVDA Stock Af...</td>\n",
       "      <td>Advanced Micro Devices (NASDAQ:AMD) stock has ...</td>\n",
       "      <td>Yahoo Entertainment</td>\n",
       "      <td>https://finance.yahoo.com/news/amd-stock-final...</td>\n",
       "      <td>0.28</td>\n",
       "    </tr>\n",
       "    <tr>\n",
       "      <th>2</th>\n",
       "      <td>1980-03-17 00:00:00-05:00</td>\n",
       "      <td>0.0</td>\n",
       "      <td>3.302083</td>\n",
       "      <td>3.125</td>\n",
       "      <td>3.145833</td>\n",
       "      <td>219600</td>\n",
       "      <td>0.0</td>\n",
       "      <td>0.0</td>\n",
       "      <td>1980</td>\n",
       "      <td>2.783923</td>\n",
       "      <td>...</td>\n",
       "      <td>NaN</td>\n",
       "      <td>NaN</td>\n",
       "      <td>NaN</td>\n",
       "      <td>NaN</td>\n",
       "      <td>2</td>\n",
       "      <td>Bezos Backs AI Chipmaker Vying With Nvidia at ...</td>\n",
       "      <td>(Bloomberg) -- Amazon.com Inc. founder Jeff Be...</td>\n",
       "      <td>Yahoo Entertainment</td>\n",
       "      <td>https://finance.yahoo.com/news/bezos-backs-ai-...</td>\n",
       "      <td>0.00</td>\n",
       "    </tr>\n",
       "    <tr>\n",
       "      <th>3</th>\n",
       "      <td>1980-03-17 00:00:00-05:00</td>\n",
       "      <td>0.0</td>\n",
       "      <td>3.302083</td>\n",
       "      <td>3.125</td>\n",
       "      <td>3.145833</td>\n",
       "      <td>219600</td>\n",
       "      <td>0.0</td>\n",
       "      <td>0.0</td>\n",
       "      <td>1980</td>\n",
       "      <td>2.783923</td>\n",
       "      <td>...</td>\n",
       "      <td>NaN</td>\n",
       "      <td>NaN</td>\n",
       "      <td>NaN</td>\n",
       "      <td>NaN</td>\n",
       "      <td>3</td>\n",
       "      <td>Advanced Micro Devices (AMD) Shifts to Unified...</td>\n",
       "      <td>We recently published a list of 15 AI News You...</td>\n",
       "      <td>Yahoo Entertainment</td>\n",
       "      <td>https://finance.yahoo.com/news/advanced-micro-...</td>\n",
       "      <td>0.20</td>\n",
       "    </tr>\n",
       "    <tr>\n",
       "      <th>4</th>\n",
       "      <td>1980-03-17 00:00:00-05:00</td>\n",
       "      <td>0.0</td>\n",
       "      <td>3.302083</td>\n",
       "      <td>3.125</td>\n",
       "      <td>3.145833</td>\n",
       "      <td>219600</td>\n",
       "      <td>0.0</td>\n",
       "      <td>0.0</td>\n",
       "      <td>1980</td>\n",
       "      <td>2.783923</td>\n",
       "      <td>...</td>\n",
       "      <td>NaN</td>\n",
       "      <td>NaN</td>\n",
       "      <td>NaN</td>\n",
       "      <td>NaN</td>\n",
       "      <td>4</td>\n",
       "      <td>Advanced Micro Devices, Inc. (AMD): Eyeing $50...</td>\n",
       "      <td>We recently compiled a list of the 15 AI Stock...</td>\n",
       "      <td>Yahoo Entertainment</td>\n",
       "      <td>https://finance.yahoo.com/news/advanced-micro-...</td>\n",
       "      <td>0.20</td>\n",
       "    </tr>\n",
       "  </tbody>\n",
       "</table>\n",
       "<p>5 rows × 23 columns</p>\n",
       "</div>"
      ],
      "text/plain": [
       "                        Date  Open      High    Low     Close  Volume  \\\n",
       "0  1980-03-17 00:00:00-05:00   0.0  3.302083  3.125  3.145833  219600   \n",
       "1  1980-03-17 00:00:00-05:00   0.0  3.302083  3.125  3.145833  219600   \n",
       "2  1980-03-17 00:00:00-05:00   0.0  3.302083  3.125  3.145833  219600   \n",
       "3  1980-03-17 00:00:00-05:00   0.0  3.302083  3.125  3.145833  219600   \n",
       "4  1980-03-17 00:00:00-05:00   0.0  3.302083  3.125  3.145833  219600   \n",
       "\n",
       "   Dividends  Stock Splits  Year  P/E Ratio  ...  RSI  ATR ADX  MACD  \\\n",
       "0        0.0           0.0  1980   2.783923  ...  NaN  NaN NaN   NaN   \n",
       "1        0.0           0.0  1980   2.783923  ...  NaN  NaN NaN   NaN   \n",
       "2        0.0           0.0  1980   2.783923  ...  NaN  NaN NaN   NaN   \n",
       "3        0.0           0.0  1980   2.783923  ...  NaN  NaN NaN   NaN   \n",
       "4        0.0           0.0  1980   2.783923  ...  NaN  NaN NaN   NaN   \n",
       "\n",
       "   Unnamed: 0                                              title  \\\n",
       "0           0  Advanced Micro Devices (AMD) Accelerates AI De...   \n",
       "1           1  Is AMD Stock Finally Better Than NVDA Stock Af...   \n",
       "2           2  Bezos Backs AI Chipmaker Vying With Nvidia at ...   \n",
       "3           3  Advanced Micro Devices (AMD) Shifts to Unified...   \n",
       "4           4  Advanced Micro Devices, Inc. (AMD): Eyeing $50...   \n",
       "\n",
       "                                         description               source  \\\n",
       "0  We recently published a list of 15 AI News Upd...  Yahoo Entertainment   \n",
       "1  Advanced Micro Devices (NASDAQ:AMD) stock has ...  Yahoo Entertainment   \n",
       "2  (Bloomberg) -- Amazon.com Inc. founder Jeff Be...  Yahoo Entertainment   \n",
       "3  We recently published a list of 15 AI News You...  Yahoo Entertainment   \n",
       "4  We recently compiled a list of the 15 AI Stock...  Yahoo Entertainment   \n",
       "\n",
       "                                                 url sentiment_score  \n",
       "0  https://finance.yahoo.com/news/advanced-micro-...            0.20  \n",
       "1  https://finance.yahoo.com/news/amd-stock-final...            0.28  \n",
       "2  https://finance.yahoo.com/news/bezos-backs-ai-...            0.00  \n",
       "3  https://finance.yahoo.com/news/advanced-micro-...            0.20  \n",
       "4  https://finance.yahoo.com/news/advanced-micro-...            0.20  \n",
       "\n",
       "[5 rows x 23 columns]"
      ]
     },
     "execution_count": 19,
     "metadata": {},
     "output_type": "execute_result"
    }
   ],
   "source": [
    "combined_data.head()"
   ]
  },
  {
   "cell_type": "code",
   "execution_count": 26,
   "metadata": {},
   "outputs": [
    {
     "data": {
      "text/plain": [
       "(2804065, 23)"
      ]
     },
     "execution_count": 26,
     "metadata": {},
     "output_type": "execute_result"
    }
   ],
   "source": [
    "combined_data.shape"
   ]
  },
  {
   "cell_type": "code",
   "execution_count": null,
   "metadata": {},
   "outputs": [
    {
     "name": "stdout",
     "output_type": "stream",
     "text": [
      "0.0\n",
      "0.0\n",
      "0.0\n",
      "0.0\n"
     ]
    }
   ],
   "source": [
    "print(combined_data['RSI'].sum(skipna=True))\n",
    "print(combined_data['ATR'].sum(skipna=True))\n",
    "print(combined_data['ADX'].sum(skipna=True))\n",
    "print(combined_data['MACD'].sum(skipna=True)) #bad cols\n"
   ]
  },
  {
   "cell_type": "code",
   "execution_count": 36,
   "metadata": {},
   "outputs": [],
   "source": [
    "bad=['ATR','ADX','MACD','RSI']\n",
    "#drop bad columns\n",
    "combined_data = combined_data.drop(columns=bad)"
   ]
  },
  {
   "cell_type": "code",
   "execution_count": 37,
   "metadata": {},
   "outputs": [
    {
     "data": {
      "text/plain": [
       "Index(['Date', 'Open', 'High', 'Low', 'Close', 'Volume', 'Dividends',\n",
       "       'Stock Splits', 'Year', 'P/E Ratio', 'Dividend Yield', 'Market Cap',\n",
       "       'Ticker', 'Unnamed: 0', 'title', 'description', 'source', 'url',\n",
       "       'sentiment_score'],\n",
       "      dtype='object')"
      ]
     },
     "execution_count": 37,
     "metadata": {},
     "output_type": "execute_result"
    }
   ],
   "source": [
    "combined_data.columns"
   ]
  },
  {
   "cell_type": "code",
   "execution_count": null,
   "metadata": {},
   "outputs": [
    {
     "data": {
      "text/plain": [
       "Unnamed: 0\n",
       "0     29024\n",
       "1     29024\n",
       "2     29024\n",
       "3     29024\n",
       "4     29024\n",
       "      ...  \n",
       "94    17761\n",
       "95    17761\n",
       "96    17761\n",
       "97    11263\n",
       "98    11263\n",
       "Name: count, Length: 99, dtype: int64"
      ]
     },
     "execution_count": 40,
     "metadata": {},
     "output_type": "execute_result"
    }
   ],
   "source": [
    "combined_data['Unnamed: 0'].value_counts() #ngl i got no idea what this column is"
   ]
  },
  {
   "cell_type": "code",
   "execution_count": 41,
   "metadata": {},
   "outputs": [],
   "source": [
    "combined_data = combined_data.drop(columns='Unnamed: 0')"
   ]
  },
  {
   "cell_type": "code",
   "execution_count": 42,
   "metadata": {},
   "outputs": [
    {
     "data": {
      "text/plain": [
       "Index(['Date', 'Open', 'High', 'Low', 'Close', 'Volume', 'Dividends',\n",
       "       'Stock Splits', 'Year', 'P/E Ratio', 'Dividend Yield', 'Market Cap',\n",
       "       'Ticker', 'title', 'description', 'source', 'url', 'sentiment_score'],\n",
       "      dtype='object')"
      ]
     },
     "execution_count": 42,
     "metadata": {},
     "output_type": "execute_result"
    }
   ],
   "source": [
    "combined_data.columns"
   ]
  },
  {
   "cell_type": "code",
   "execution_count": 43,
   "metadata": {},
   "outputs": [
    {
     "data": {
      "text/html": [
       "<div>\n",
       "<style scoped>\n",
       "    .dataframe tbody tr th:only-of-type {\n",
       "        vertical-align: middle;\n",
       "    }\n",
       "\n",
       "    .dataframe tbody tr th {\n",
       "        vertical-align: top;\n",
       "    }\n",
       "\n",
       "    .dataframe thead th {\n",
       "        text-align: right;\n",
       "    }\n",
       "</style>\n",
       "<table border=\"1\" class=\"dataframe\">\n",
       "  <thead>\n",
       "    <tr style=\"text-align: right;\">\n",
       "      <th></th>\n",
       "      <th>Date</th>\n",
       "      <th>Open</th>\n",
       "      <th>High</th>\n",
       "      <th>Low</th>\n",
       "      <th>Close</th>\n",
       "      <th>Volume</th>\n",
       "      <th>Dividends</th>\n",
       "      <th>Stock Splits</th>\n",
       "      <th>Year</th>\n",
       "      <th>P/E Ratio</th>\n",
       "      <th>Dividend Yield</th>\n",
       "      <th>Market Cap</th>\n",
       "      <th>Ticker</th>\n",
       "      <th>title</th>\n",
       "      <th>description</th>\n",
       "      <th>source</th>\n",
       "      <th>url</th>\n",
       "      <th>sentiment_score</th>\n",
       "    </tr>\n",
       "  </thead>\n",
       "  <tbody>\n",
       "    <tr>\n",
       "      <th>0</th>\n",
       "      <td>1980-03-17 00:00:00-05:00</td>\n",
       "      <td>0.000000</td>\n",
       "      <td>3.302083</td>\n",
       "      <td>3.125</td>\n",
       "      <td>3.145833</td>\n",
       "      <td>219600</td>\n",
       "      <td>0.0</td>\n",
       "      <td>0.0</td>\n",
       "      <td>1980</td>\n",
       "      <td>2.783923</td>\n",
       "      <td>0.0</td>\n",
       "      <td>5.105089e+09</td>\n",
       "      <td>AMD</td>\n",
       "      <td>Advanced Micro Devices (AMD) Accelerates AI De...</td>\n",
       "      <td>We recently published a list of 15 AI News Upd...</td>\n",
       "      <td>Yahoo Entertainment</td>\n",
       "      <td>https://finance.yahoo.com/news/advanced-micro-...</td>\n",
       "      <td>0.200000</td>\n",
       "    </tr>\n",
       "    <tr>\n",
       "      <th>1</th>\n",
       "      <td>1980-03-17 00:00:00-05:00</td>\n",
       "      <td>0.000000</td>\n",
       "      <td>3.302083</td>\n",
       "      <td>3.125</td>\n",
       "      <td>3.145833</td>\n",
       "      <td>219600</td>\n",
       "      <td>0.0</td>\n",
       "      <td>0.0</td>\n",
       "      <td>1980</td>\n",
       "      <td>2.783923</td>\n",
       "      <td>0.0</td>\n",
       "      <td>5.105089e+09</td>\n",
       "      <td>AMD</td>\n",
       "      <td>Is AMD Stock Finally Better Than NVDA Stock Af...</td>\n",
       "      <td>Advanced Micro Devices (NASDAQ:AMD) stock has ...</td>\n",
       "      <td>Yahoo Entertainment</td>\n",
       "      <td>https://finance.yahoo.com/news/amd-stock-final...</td>\n",
       "      <td>0.280000</td>\n",
       "    </tr>\n",
       "    <tr>\n",
       "      <th>2</th>\n",
       "      <td>1980-03-17 00:00:00-05:00</td>\n",
       "      <td>0.000000</td>\n",
       "      <td>3.302083</td>\n",
       "      <td>3.125</td>\n",
       "      <td>3.145833</td>\n",
       "      <td>219600</td>\n",
       "      <td>0.0</td>\n",
       "      <td>0.0</td>\n",
       "      <td>1980</td>\n",
       "      <td>2.783923</td>\n",
       "      <td>0.0</td>\n",
       "      <td>5.105089e+09</td>\n",
       "      <td>AMD</td>\n",
       "      <td>Bezos Backs AI Chipmaker Vying With Nvidia at ...</td>\n",
       "      <td>(Bloomberg) -- Amazon.com Inc. founder Jeff Be...</td>\n",
       "      <td>Yahoo Entertainment</td>\n",
       "      <td>https://finance.yahoo.com/news/bezos-backs-ai-...</td>\n",
       "      <td>0.000000</td>\n",
       "    </tr>\n",
       "    <tr>\n",
       "      <th>3</th>\n",
       "      <td>1980-03-17 00:00:00-05:00</td>\n",
       "      <td>0.000000</td>\n",
       "      <td>3.302083</td>\n",
       "      <td>3.125</td>\n",
       "      <td>3.145833</td>\n",
       "      <td>219600</td>\n",
       "      <td>0.0</td>\n",
       "      <td>0.0</td>\n",
       "      <td>1980</td>\n",
       "      <td>2.783923</td>\n",
       "      <td>0.0</td>\n",
       "      <td>5.105089e+09</td>\n",
       "      <td>AMD</td>\n",
       "      <td>Advanced Micro Devices (AMD) Shifts to Unified...</td>\n",
       "      <td>We recently published a list of 15 AI News You...</td>\n",
       "      <td>Yahoo Entertainment</td>\n",
       "      <td>https://finance.yahoo.com/news/advanced-micro-...</td>\n",
       "      <td>0.200000</td>\n",
       "    </tr>\n",
       "    <tr>\n",
       "      <th>4</th>\n",
       "      <td>1980-03-17 00:00:00-05:00</td>\n",
       "      <td>0.000000</td>\n",
       "      <td>3.302083</td>\n",
       "      <td>3.125</td>\n",
       "      <td>3.145833</td>\n",
       "      <td>219600</td>\n",
       "      <td>0.0</td>\n",
       "      <td>0.0</td>\n",
       "      <td>1980</td>\n",
       "      <td>2.783923</td>\n",
       "      <td>0.0</td>\n",
       "      <td>5.105089e+09</td>\n",
       "      <td>AMD</td>\n",
       "      <td>Advanced Micro Devices, Inc. (AMD): Eyeing $50...</td>\n",
       "      <td>We recently compiled a list of the 15 AI Stock...</td>\n",
       "      <td>Yahoo Entertainment</td>\n",
       "      <td>https://finance.yahoo.com/news/advanced-micro-...</td>\n",
       "      <td>0.200000</td>\n",
       "    </tr>\n",
       "    <tr>\n",
       "      <th>...</th>\n",
       "      <td>...</td>\n",
       "      <td>...</td>\n",
       "      <td>...</td>\n",
       "      <td>...</td>\n",
       "      <td>...</td>\n",
       "      <td>...</td>\n",
       "      <td>...</td>\n",
       "      <td>...</td>\n",
       "      <td>...</td>\n",
       "      <td>...</td>\n",
       "      <td>...</td>\n",
       "      <td>...</td>\n",
       "      <td>...</td>\n",
       "      <td>...</td>\n",
       "      <td>...</td>\n",
       "      <td>...</td>\n",
       "      <td>...</td>\n",
       "      <td>...</td>\n",
       "    </tr>\n",
       "    <tr>\n",
       "      <th>1115032</th>\n",
       "      <td>2024-11-15 00:00:00-05:00</td>\n",
       "      <td>24.809999</td>\n",
       "      <td>24.820000</td>\n",
       "      <td>24.230</td>\n",
       "      <td>24.350000</td>\n",
       "      <td>54931400</td>\n",
       "      <td>0.0</td>\n",
       "      <td>0.0</td>\n",
       "      <td>2024</td>\n",
       "      <td>-6.510695</td>\n",
       "      <td>0.0</td>\n",
       "      <td>1.050216e+11</td>\n",
       "      <td>INTC</td>\n",
       "      <td>Lenovo Launches ThinkShield Firmware Assurance...</td>\n",
       "      <td>Lenovo Launches ThinkShield Firmware Assurance...</td>\n",
       "      <td>Investing.com</td>\n",
       "      <td>https://www.investing.com/news/press-releases/...</td>\n",
       "      <td>0.000000</td>\n",
       "    </tr>\n",
       "    <tr>\n",
       "      <th>1115033</th>\n",
       "      <td>2024-11-15 00:00:00-05:00</td>\n",
       "      <td>24.809999</td>\n",
       "      <td>24.820000</td>\n",
       "      <td>24.230</td>\n",
       "      <td>24.350000</td>\n",
       "      <td>54931400</td>\n",
       "      <td>0.0</td>\n",
       "      <td>0.0</td>\n",
       "      <td>2024</td>\n",
       "      <td>-6.510695</td>\n",
       "      <td>0.0</td>\n",
       "      <td>1.050216e+11</td>\n",
       "      <td>INTC</td>\n",
       "      <td>ath9k (wi-fi) driver doesn't work properly wit...</td>\n",
       "      <td>i have an issue with my WIFI\\nit works fine af...</td>\n",
       "      <td>Askubuntu.com</td>\n",
       "      <td>https://askubuntu.com/questions/1531967/ath9k-...</td>\n",
       "      <td>0.054167</td>\n",
       "    </tr>\n",
       "    <tr>\n",
       "      <th>1115034</th>\n",
       "      <td>2024-11-15 00:00:00-05:00</td>\n",
       "      <td>24.809999</td>\n",
       "      <td>24.820000</td>\n",
       "      <td>24.230</td>\n",
       "      <td>24.350000</td>\n",
       "      <td>54931400</td>\n",
       "      <td>0.0</td>\n",
       "      <td>0.0</td>\n",
       "      <td>2024</td>\n",
       "      <td>-6.510695</td>\n",
       "      <td>0.0</td>\n",
       "      <td>1.050216e+11</td>\n",
       "      <td>INTC</td>\n",
       "      <td>Wi-Fi Chipsets Global Strategic Business Repor...</td>\n",
       "      <td>Dublin, Nov. 19, 2024 (GLOBE NEWSWIRE) -- The ...</td>\n",
       "      <td>GlobeNewswire</td>\n",
       "      <td>https://www.globenewswire.com/news-release/202...</td>\n",
       "      <td>0.000000</td>\n",
       "    </tr>\n",
       "    <tr>\n",
       "      <th>1115035</th>\n",
       "      <td>2024-11-15 00:00:00-05:00</td>\n",
       "      <td>24.809999</td>\n",
       "      <td>24.820000</td>\n",
       "      <td>24.230</td>\n",
       "      <td>24.350000</td>\n",
       "      <td>54931400</td>\n",
       "      <td>0.0</td>\n",
       "      <td>0.0</td>\n",
       "      <td>2024</td>\n",
       "      <td>-6.510695</td>\n",
       "      <td>0.0</td>\n",
       "      <td>1.050216e+11</td>\n",
       "      <td>INTC</td>\n",
       "      <td>Vietnam Data Center Networking Market Trends, ...</td>\n",
       "      <td>Dublin, Nov. 25, 2024 (GLOBE NEWSWIRE) -- The ...</td>\n",
       "      <td>GlobeNewswire</td>\n",
       "      <td>https://www.globenewswire.com/news-release/202...</td>\n",
       "      <td>-0.100000</td>\n",
       "    </tr>\n",
       "    <tr>\n",
       "      <th>1115036</th>\n",
       "      <td>2024-11-15 00:00:00-05:00</td>\n",
       "      <td>24.809999</td>\n",
       "      <td>24.820000</td>\n",
       "      <td>24.230</td>\n",
       "      <td>24.350000</td>\n",
       "      <td>54931400</td>\n",
       "      <td>0.0</td>\n",
       "      <td>0.0</td>\n",
       "      <td>2024</td>\n",
       "      <td>-6.510695</td>\n",
       "      <td>0.0</td>\n",
       "      <td>1.050216e+11</td>\n",
       "      <td>INTC</td>\n",
       "      <td>Consumer IoT Market Report and Industry Foreca...</td>\n",
       "      <td>Dublin, Nov. 06, 2024 (GLOBE NEWSWIRE) -- The ...</td>\n",
       "      <td>GlobeNewswire</td>\n",
       "      <td>https://www.globenewswire.com/news-release/202...</td>\n",
       "      <td>0.000000</td>\n",
       "    </tr>\n",
       "  </tbody>\n",
       "</table>\n",
       "<p>2804065 rows × 18 columns</p>\n",
       "</div>"
      ],
      "text/plain": [
       "                              Date       Open       High     Low      Close  \\\n",
       "0        1980-03-17 00:00:00-05:00   0.000000   3.302083   3.125   3.145833   \n",
       "1        1980-03-17 00:00:00-05:00   0.000000   3.302083   3.125   3.145833   \n",
       "2        1980-03-17 00:00:00-05:00   0.000000   3.302083   3.125   3.145833   \n",
       "3        1980-03-17 00:00:00-05:00   0.000000   3.302083   3.125   3.145833   \n",
       "4        1980-03-17 00:00:00-05:00   0.000000   3.302083   3.125   3.145833   \n",
       "...                            ...        ...        ...     ...        ...   \n",
       "1115032  2024-11-15 00:00:00-05:00  24.809999  24.820000  24.230  24.350000   \n",
       "1115033  2024-11-15 00:00:00-05:00  24.809999  24.820000  24.230  24.350000   \n",
       "1115034  2024-11-15 00:00:00-05:00  24.809999  24.820000  24.230  24.350000   \n",
       "1115035  2024-11-15 00:00:00-05:00  24.809999  24.820000  24.230  24.350000   \n",
       "1115036  2024-11-15 00:00:00-05:00  24.809999  24.820000  24.230  24.350000   \n",
       "\n",
       "           Volume  Dividends  Stock Splits  Year  P/E Ratio  Dividend Yield  \\\n",
       "0          219600        0.0           0.0  1980   2.783923             0.0   \n",
       "1          219600        0.0           0.0  1980   2.783923             0.0   \n",
       "2          219600        0.0           0.0  1980   2.783923             0.0   \n",
       "3          219600        0.0           0.0  1980   2.783923             0.0   \n",
       "4          219600        0.0           0.0  1980   2.783923             0.0   \n",
       "...           ...        ...           ...   ...        ...             ...   \n",
       "1115032  54931400        0.0           0.0  2024  -6.510695             0.0   \n",
       "1115033  54931400        0.0           0.0  2024  -6.510695             0.0   \n",
       "1115034  54931400        0.0           0.0  2024  -6.510695             0.0   \n",
       "1115035  54931400        0.0           0.0  2024  -6.510695             0.0   \n",
       "1115036  54931400        0.0           0.0  2024  -6.510695             0.0   \n",
       "\n",
       "           Market Cap Ticker  \\\n",
       "0        5.105089e+09    AMD   \n",
       "1        5.105089e+09    AMD   \n",
       "2        5.105089e+09    AMD   \n",
       "3        5.105089e+09    AMD   \n",
       "4        5.105089e+09    AMD   \n",
       "...               ...    ...   \n",
       "1115032  1.050216e+11   INTC   \n",
       "1115033  1.050216e+11   INTC   \n",
       "1115034  1.050216e+11   INTC   \n",
       "1115035  1.050216e+11   INTC   \n",
       "1115036  1.050216e+11   INTC   \n",
       "\n",
       "                                                     title  \\\n",
       "0        Advanced Micro Devices (AMD) Accelerates AI De...   \n",
       "1        Is AMD Stock Finally Better Than NVDA Stock Af...   \n",
       "2        Bezos Backs AI Chipmaker Vying With Nvidia at ...   \n",
       "3        Advanced Micro Devices (AMD) Shifts to Unified...   \n",
       "4        Advanced Micro Devices, Inc. (AMD): Eyeing $50...   \n",
       "...                                                    ...   \n",
       "1115032  Lenovo Launches ThinkShield Firmware Assurance...   \n",
       "1115033  ath9k (wi-fi) driver doesn't work properly wit...   \n",
       "1115034  Wi-Fi Chipsets Global Strategic Business Repor...   \n",
       "1115035  Vietnam Data Center Networking Market Trends, ...   \n",
       "1115036  Consumer IoT Market Report and Industry Foreca...   \n",
       "\n",
       "                                               description  \\\n",
       "0        We recently published a list of 15 AI News Upd...   \n",
       "1        Advanced Micro Devices (NASDAQ:AMD) stock has ...   \n",
       "2        (Bloomberg) -- Amazon.com Inc. founder Jeff Be...   \n",
       "3        We recently published a list of 15 AI News You...   \n",
       "4        We recently compiled a list of the 15 AI Stock...   \n",
       "...                                                    ...   \n",
       "1115032  Lenovo Launches ThinkShield Firmware Assurance...   \n",
       "1115033  i have an issue with my WIFI\\nit works fine af...   \n",
       "1115034  Dublin, Nov. 19, 2024 (GLOBE NEWSWIRE) -- The ...   \n",
       "1115035  Dublin, Nov. 25, 2024 (GLOBE NEWSWIRE) -- The ...   \n",
       "1115036  Dublin, Nov. 06, 2024 (GLOBE NEWSWIRE) -- The ...   \n",
       "\n",
       "                      source  \\\n",
       "0        Yahoo Entertainment   \n",
       "1        Yahoo Entertainment   \n",
       "2        Yahoo Entertainment   \n",
       "3        Yahoo Entertainment   \n",
       "4        Yahoo Entertainment   \n",
       "...                      ...   \n",
       "1115032        Investing.com   \n",
       "1115033        Askubuntu.com   \n",
       "1115034        GlobeNewswire   \n",
       "1115035        GlobeNewswire   \n",
       "1115036        GlobeNewswire   \n",
       "\n",
       "                                                       url  sentiment_score  \n",
       "0        https://finance.yahoo.com/news/advanced-micro-...         0.200000  \n",
       "1        https://finance.yahoo.com/news/amd-stock-final...         0.280000  \n",
       "2        https://finance.yahoo.com/news/bezos-backs-ai-...         0.000000  \n",
       "3        https://finance.yahoo.com/news/advanced-micro-...         0.200000  \n",
       "4        https://finance.yahoo.com/news/advanced-micro-...         0.200000  \n",
       "...                                                    ...              ...  \n",
       "1115032  https://www.investing.com/news/press-releases/...         0.000000  \n",
       "1115033  https://askubuntu.com/questions/1531967/ath9k-...         0.054167  \n",
       "1115034  https://www.globenewswire.com/news-release/202...         0.000000  \n",
       "1115035  https://www.globenewswire.com/news-release/202...        -0.100000  \n",
       "1115036  https://www.globenewswire.com/news-release/202...         0.000000  \n",
       "\n",
       "[2804065 rows x 18 columns]"
      ]
     },
     "execution_count": 43,
     "metadata": {},
     "output_type": "execute_result"
    }
   ],
   "source": [
    "combined_data"
   ]
  },
  {
   "cell_type": "code",
   "execution_count": 14,
   "metadata": {},
   "outputs": [],
   "source": [
    "combined_data.to_csv('data/combined_data.csv')"
   ]
  }
 ],
 "metadata": {
  "kernelspec": {
   "display_name": ".venv",
   "language": "python",
   "name": "python3"
  },
  "language_info": {
   "codemirror_mode": {
    "name": "ipython",
    "version": 3
   },
   "file_extension": ".py",
   "mimetype": "text/x-python",
   "name": "python",
   "nbconvert_exporter": "python",
   "pygments_lexer": "ipython3",
   "version": "3.12.4"
  }
 },
 "nbformat": 4,
 "nbformat_minor": 4
}
